{
 "cells": [
  {
   "cell_type": "code",
   "execution_count": null,
   "id": "4215d118",
   "metadata": {},
   "outputs": [],
   "source": [
    "import pandas as pd\n",
    "import numpy as np\n",
    "import logging as log\n",
    "\n",
    "from data_prepare import getLogsFromDBByUserID"
   ]
  },
  {
   "cell_type": "code",
   "execution_count": null,
   "id": "0042c3d7",
   "metadata": {},
   "outputs": [],
   "source": [
    "df = pd.read_pickle('../data/173211-9739.pkl')\n",
    "df['event'] = df['method'] + ':' + df['urlEntry']"
   ]
  },
  {
   "cell_type": "code",
   "execution_count": null,
   "id": "16e5921e",
   "metadata": {},
   "outputs": [],
   "source": [
    "eventMap = {event: id for id, event in enumerate(df['event'].value_counts().keys())}\n",
    "for id in eventMap.values(): \n",
    "    if id == 0:\n",
    "        print(id)"
   ]
  },
  {
   "cell_type": "code",
   "execution_count": null,
   "id": "c0b6bf89",
   "metadata": {},
   "outputs": [],
   "source": [
    "for id, event in enumerate(df['event'].value_counts().keys()):\n",
    "    print((id, event))"
   ]
  },
  {
   "cell_type": "code",
   "execution_count": null,
   "id": "f5773123",
   "metadata": {},
   "outputs": [],
   "source": [
    "from datetime import datetime\n",
    "# 增加日期\n",
    "df['date'] = df['time'].apply(lambda x : datetime.fromtimestamp(x))\n",
    "df.sort_values(by='time', ascending=True, inplace=True)\n",
    "df = df.reset_index(drop=True)"
   ]
  },
  {
   "cell_type": "code",
   "execution_count": null,
   "id": "2bf9f515",
   "metadata": {},
   "outputs": [],
   "source": [
    "dates = df['date'].copy()\n",
    "dates.sort_values(ascending=True, inplace=True)\n",
    "# print(dates)\n",
    "values = []\n",
    "for i in range(1, len(dates)):\n",
    "    values.append((dates[i] - dates[i-1]).total_seconds())\n",
    "    if (dates[i] < dates[i-1]): \n",
    "        print(i, dates[i-1], dates[i])\n",
    "v = np.asarray(values)\n",
    "# values"
   ]
  },
  {
   "cell_type": "code",
   "execution_count": null,
   "id": "eb8101cc",
   "metadata": {},
   "outputs": [],
   "source": [
    "dates"
   ]
  },
  {
   "cell_type": "code",
   "execution_count": null,
   "id": "2d649364",
   "metadata": {},
   "outputs": [],
   "source": [
    "import matplotlib.pyplot as plt\n",
    "import numpy as np\n",
    "\n",
    "# threshold = 60*60*2\n",
    "threshlodd = 30\n",
    "data = []\n",
    "for i in values:\n",
    "#     if i < threshold and i >= threshlodd: \n",
    "    data.append(i)\n",
    "# max(data)\n",
    "# d = np.asarray(data)\n",
    "# plt.hist(bins=300, x=d)"
   ]
  },
  {
   "cell_type": "code",
   "execution_count": null,
   "id": "aec512d5",
   "metadata": {},
   "outputs": [],
   "source": [
    "import matplotlib.pyplot as plt\n",
    "import numpy as np\n"
   ]
  },
  {
   "cell_type": "code",
   "execution_count": null,
   "id": "4aecfabd",
   "metadata": {},
   "outputs": [],
   "source": [
    "months = df['date'].apply(lambda x : \"%d-%d\"%(x.year, x.month))\n",
    "data = months.value_counts()\n",
    "data.plot()"
   ]
  },
  {
   "cell_type": "code",
   "execution_count": null,
   "id": "41d40c64",
   "metadata": {},
   "outputs": [],
   "source": [
    "df"
   ]
  },
  {
   "cell_type": "code",
   "execution_count": null,
   "id": "0b5f14a0",
   "metadata": {},
   "outputs": [],
   "source": [
    "output = '../data/rewriteLog.log'\n",
    "with open(output, 'w') as f:\n",
    "    for logEntry in df.itertuples():\n",
    "        f.write(\"%s %s %s %s %s %s %s\\n\" % (\n",
    "            logEntry[8],\n",
    "            logEntry[2],\n",
    "            logEntry[3],\n",
    "            logEntry[4],\n",
    "            logEntry[5],\n",
    "            logEntry[6],\n",
    "            logEntry[7],\n",
    "        ))"
   ]
  },
  {
   "cell_type": "code",
   "execution_count": null,
   "id": "dce5fb8c",
   "metadata": {},
   "outputs": [],
   "source": [
    "from spellpy import spell\n",
    "\n",
    "tau = 0.5\n",
    "# input_dir = '../data/'\n",
    "output_dir = '../data/output/'\n",
    "log_format = '<Date> <Time> <Url> <Method> <Content> <Headers> <Name> <ADDR>'\n",
    "\n",
    "parser = spell.LogParser(\n",
    "    indir='./',\n",
    "    outdir='./',\n",
    "    log_format=log_format,\n",
    "#     logmain=log_main,\n",
    "    tau=tau,\n",
    ")\n",
    "\n",
    "parser.parse(output)\n"
   ]
  },
  {
   "cell_type": "code",
   "execution_count": null,
   "id": "18085053",
   "metadata": {},
   "outputs": [],
   "source": [
    "df"
   ]
  },
  {
   "cell_type": "code",
   "execution_count": null,
   "id": "6a2f6ad4",
   "metadata": {},
   "outputs": [],
   "source": [
    "def deeplog_df_transfer(df, event_id_map):\n",
    "  \n",
    "    df = df[['date', 'event']]\n",
    "    df['EventId'] = df['event'].apply(\n",
    "        lambda e: event_id_map[e] if event_id_map.get(e) else -1)\n",
    "    deeplog_df = df.set_index('date').resample(\n",
    "        '30min').apply(_custom_resampler).reset_index()\n",
    "    return deeplog_df\n",
    "\n",
    "\n",
    "def _custom_resampler(array_like):\n",
    "    return list(array_like)\n",
    "\n",
    "def deeplog_file_generator(filename, df):\n",
    "    with open(filename, 'w') as f:\n",
    "        for event_id_list in df['EventId']:\n",
    "            if (len(event_id_list) == 0):\n",
    "                continue\n",
    "            for event_id in event_id_list:\n",
    "                f.write(str(event_id) + ' ')\n",
    "            f.write('\\n')"
   ]
  },
  {
   "cell_type": "code",
   "execution_count": null,
   "id": "68dd29c1",
   "metadata": {},
   "outputs": [],
   "source": [
    "df['event'] = df['method'] + ':' + df['urlEntry']\n",
    "event_id_map = dict()\n",
    "for i, event_id in enumerate(df['event'].unique(), 1):\n",
    "    event_id_map[event_id] = i\n",
    "event_id_map"
   ]
  },
  {
   "cell_type": "markdown",
   "id": "fa92bafb",
   "metadata": {},
   "source": [
    "## train"
   ]
  },
  {
   "cell_type": "code",
   "execution_count": null,
   "id": "2a5165ad",
   "metadata": {},
   "outputs": [],
   "source": [
    "epochs = range (1, 5)\n",
    "losss = [0.015, 0.025, 0.045, 0.065]\n",
    "accs = [0.085, 0.075, 0.045, 0.015]\n",
    "\n",
    "import matplotlib.pyplot as plt\n",
    "fig = plt.figure()\n",
    "\n",
    "ax1 = fig.add_subplot(2, 1, 1)\n",
    "ax2 = fig.add_subplot(2, 1, 2)\n",
    "ax1.plot(epochs, losss, 'k')\n",
    "ax2.plot(accs, losss)\n"
   ]
  },
  {
   "cell_type": "code",
   "execution_count": 1,
   "id": "5d93ddc5",
   "metadata": {},
   "outputs": [
    {
     "data": {
      "text/plain": [
       "275974"
      ]
     },
     "execution_count": 1,
     "metadata": {},
     "output_type": "execute_result"
    }
   ],
   "source": [
    "urls = []\n",
    "with open(\"../data/urls_origin.txt\", 'r') as f:\n",
    "    for line in f:\n",
    "        urls.append(line.strip())\n",
    "urls.__len__()"
   ]
  },
  {
   "cell_type": "code",
   "execution_count": 2,
   "id": "cff7891f",
   "metadata": {},
   "outputs": [],
   "source": [
    "from modules.url_match import UrlMatcher, UrlEntry\n",
    "from sql.db import DB as db\n",
    "\n",
    "entrys = db.queryUrlEntrys()\n",
    "\n",
    "# entrys\n",
    "# matcher = UrlMatcher()"
   ]
  },
  {
   "cell_type": "code",
   "execution_count": 3,
   "id": "ed330bdd",
   "metadata": {},
   "outputs": [],
   "source": [
    "urlEntrys = [UrlEntry(paraSet=(entry[2].split('/')[1], entry[1], entry[2])) for entry in entrys]\n",
    "matcher = UrlMatcher(urlEntrys)"
   ]
  },
  {
   "cell_type": "code",
   "execution_count": 5,
   "id": "8549da7c",
   "metadata": {},
   "outputs": [],
   "source": [
    "dic = set()\n",
    "with open('../data/all_urls.csv', 'r') as f:\n",
    "    first = True\n",
    "    for line in f:\n",
    "        if first:\n",
    "            first = False\n",
    "            continue\n",
    "        ss = line.strip().split(',')\n",
    "        module = ss[-1]\n",
    "        url = line.strip().strip(','+module)\n",
    "        url = '/' + url.strip('/')\n",
    "        try:\n",
    "            entry = matcher.convert(url, module)\n",
    "            dic.add(entry)    \n",
    "        except Exception as e:\n",
    "            print(e)\n",
    "            "
   ]
  },
  {
   "cell_type": "code",
   "execution_count": 11,
   "id": "ee7f4177",
   "metadata": {},
   "outputs": [],
   "source": [
    "# '/hr/thrpeople' in dic\n",
    "matcher.convert('/hr/tpayusers', 'POST')"
   ]
  }
 ],
 "metadata": {
  "kernelspec": {
   "display_name": "Python 3 (ipykernel)",
   "language": "python",
   "name": "python3"
  },
  "language_info": {
   "codemirror_mode": {
    "name": "ipython",
    "version": 3
   },
   "file_extension": ".py",
   "mimetype": "text/x-python",
   "name": "python",
   "nbconvert_exporter": "python",
   "pygments_lexer": "ipython3",
   "version": "3.7.11"
  }
 },
 "nbformat": 4,
 "nbformat_minor": 5
}
