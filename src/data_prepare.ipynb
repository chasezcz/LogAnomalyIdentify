{
 "cells": [
  {
   "cell_type": "code",
   "execution_count": null,
   "id": "4215d118",
   "metadata": {},
   "outputs": [],
   "source": [
    "import pandas as pd\n",
    "import numpy as np\n",
    "import logging as log\n",
    "\n",
    "from data_prepare import getLogsFromDBByUserID"
   ]
  },
  {
   "cell_type": "code",
   "execution_count": null,
   "id": "0042c3d7",
   "metadata": {},
   "outputs": [],
   "source": [
    "df = pd.read_pickle('../data/173211-9739.pkl')\n",
    "df['event'] = df['method'] + ':' + df['urlEntry']"
   ]
  },
  {
   "cell_type": "code",
   "execution_count": null,
   "id": "16e5921e",
   "metadata": {},
   "outputs": [],
   "source": [
    "eventMap = {event: id for id, event in enumerate(df['event'].value_counts().keys())}\n",
    "for id in eventMap.values(): \n",
    "    if id == 0:\n",
    "        print(id)"
   ]
  },
  {
   "cell_type": "code",
   "execution_count": null,
   "id": "c0b6bf89",
   "metadata": {},
   "outputs": [],
   "source": [
    "for id, event in enumerate(df['event'].value_counts().keys()):\n",
    "    print((id, event))"
   ]
  },
  {
   "cell_type": "code",
   "execution_count": null,
   "id": "f5773123",
   "metadata": {},
   "outputs": [],
   "source": [
    "from datetime import datetime\n",
    "# 增加日期\n",
    "df['date'] = df['time'].apply(lambda x : datetime.fromtimestamp(x))\n",
    "df.sort_values(by='time', ascending=True, inplace=True)\n",
    "df = df.reset_index(drop=True)"
   ]
  },
  {
   "cell_type": "code",
   "execution_count": null,
   "id": "2bf9f515",
   "metadata": {},
   "outputs": [],
   "source": [
    "dates = df['date'].copy()\n",
    "dates.sort_values(ascending=True, inplace=True)\n",
    "# print(dates)\n",
    "values = []\n",
    "for i in range(1, len(dates)):\n",
    "    values.append((dates[i] - dates[i-1]).total_seconds())\n",
    "    if (dates[i] < dates[i-1]): \n",
    "        print(i, dates[i-1], dates[i])\n",
    "v = np.asarray(values)\n",
    "# values"
   ]
  },
  {
   "cell_type": "code",
   "execution_count": null,
   "id": "eb8101cc",
   "metadata": {},
   "outputs": [],
   "source": [
    "dates"
   ]
  },
  {
   "cell_type": "code",
   "execution_count": null,
   "id": "2d649364",
   "metadata": {},
   "outputs": [],
   "source": [
    "import matplotlib.pyplot as plt\n",
    "import numpy as np\n",
    "\n",
    "# threshold = 60*60*2\n",
    "threshlodd = 30\n",
    "data = []\n",
    "for i in values:\n",
    "#     if i < threshold and i >= threshlodd: \n",
    "    data.append(i)\n",
    "# max(data)\n",
    "# d = np.asarray(data)\n",
    "# plt.hist(bins=300, x=d)"
   ]
  },
  {
   "cell_type": "code",
   "execution_count": null,
   "id": "aec512d5",
   "metadata": {},
   "outputs": [],
   "source": [
    "import matplotlib.pyplot as plt\n",
    "import numpy as np\n"
   ]
  },
  {
   "cell_type": "code",
   "execution_count": null,
   "id": "4aecfabd",
   "metadata": {},
   "outputs": [],
   "source": [
    "months = df['date'].apply(lambda x : \"%d-%d\"%(x.year, x.month))\n",
    "data = months.value_counts()\n",
    "data.plot()"
   ]
  },
  {
   "cell_type": "code",
   "execution_count": null,
   "id": "41d40c64",
   "metadata": {},
   "outputs": [],
   "source": [
    "df"
   ]
  },
  {
   "cell_type": "code",
   "execution_count": null,
   "id": "0b5f14a0",
   "metadata": {},
   "outputs": [],
   "source": [
    "output = '../data/rewriteLog.log'\n",
    "with open(output, 'w') as f:\n",
    "    for logEntry in df.itertuples():\n",
    "        f.write(\"%s %s %s %s %s %s %s\\n\" % (\n",
    "            logEntry[8],\n",
    "            logEntry[2],\n",
    "            logEntry[3],\n",
    "            logEntry[4],\n",
    "            logEntry[5],\n",
    "            logEntry[6],\n",
    "            logEntry[7],\n",
    "        ))"
   ]
  },
  {
   "cell_type": "code",
   "execution_count": null,
   "id": "dce5fb8c",
   "metadata": {},
   "outputs": [],
   "source": [
    "from spellpy import spell\n",
    "\n",
    "tau = 0.5\n",
    "# input_dir = '../data/'\n",
    "output_dir = '../data/output/'\n",
    "log_format = '<Date> <Time> <Url> <Method> <Content> <Headers> <Name> <ADDR>'\n",
    "\n",
    "parser = spell.LogParser(\n",
    "    indir='./',\n",
    "    outdir='./',\n",
    "    log_format=log_format,\n",
    "#     logmain=log_main,\n",
    "    tau=tau,\n",
    ")\n",
    "\n",
    "parser.parse(output)\n"
   ]
  },
  {
   "cell_type": "code",
   "execution_count": null,
   "id": "18085053",
   "metadata": {},
   "outputs": [],
   "source": [
    "df"
   ]
  },
  {
   "cell_type": "code",
   "execution_count": null,
   "id": "6a2f6ad4",
   "metadata": {},
   "outputs": [],
   "source": [
    "def deeplog_df_transfer(df, event_id_map):\n",
    "  \n",
    "    df = df[['date', 'event']]\n",
    "    df['EventId'] = df['event'].apply(\n",
    "        lambda e: event_id_map[e] if event_id_map.get(e) else -1)\n",
    "    deeplog_df = df.set_index('date').resample(\n",
    "        '30min').apply(_custom_resampler).reset_index()\n",
    "    return deeplog_df\n",
    "\n",
    "\n",
    "def _custom_resampler(array_like):\n",
    "    return list(array_like)\n",
    "\n",
    "def deeplog_file_generator(filename, df):\n",
    "    with open(filename, 'w') as f:\n",
    "        for event_id_list in df['EventId']:\n",
    "            if (len(event_id_list) == 0):\n",
    "                continue\n",
    "            for event_id in event_id_list:\n",
    "                f.write(str(event_id) + ' ')\n",
    "            f.write('\\n')"
   ]
  },
  {
   "cell_type": "code",
   "execution_count": null,
   "id": "68dd29c1",
   "metadata": {},
   "outputs": [],
   "source": [
    "df['event'] = df['method'] + ':' + df['urlEntry']\n",
    "event_id_map = dict()\n",
    "for i, event_id in enumerate(df['event'].unique(), 1):\n",
    "    event_id_map[event_id] = i\n",
    "event_id_map"
   ]
  },
  {
   "cell_type": "markdown",
   "id": "fa92bafb",
   "metadata": {},
   "source": [
    "## train"
   ]
  },
  {
   "cell_type": "code",
   "execution_count": null,
   "id": "2a5165ad",
   "metadata": {},
   "outputs": [],
   "source": [
    "epochs = range (1, 5)\n",
    "losss = [0.015, 0.025, 0.045, 0.065]\n",
    "accs = [0.085, 0.075, 0.045, 0.015]\n",
    "\n",
    "import matplotlib.pyplot as plt\n",
    "fig = plt.figure()\n",
    "\n",
    "ax1 = fig.add_subplot(2, 1, 1)\n",
    "ax2 = fig.add_subplot(2, 1, 2)\n",
    "ax1.plot(epochs, losss, 'k')\n",
    "ax2.plot(accs, losss)\n"
   ]
  },
  {
   "cell_type": "code",
   "execution_count": 1,
   "id": "5d93ddc5",
   "metadata": {},
   "outputs": [
    {
     "data": {
      "text/plain": [
       "275974"
      ]
     },
     "execution_count": 1,
     "metadata": {},
     "output_type": "execute_result"
    }
   ],
   "source": [
    "urls = []\n",
    "with open(\"../data/urls_origin.txt\", 'r') as f:\n",
    "    for line in f:\n",
    "        urls.append(line.strip())\n",
    "urls.__len__()"
   ]
  },
  {
   "cell_type": "code",
   "execution_count": 2,
   "id": "cff7891f",
   "metadata": {},
   "outputs": [],
   "source": [
    "from modules.url_match import UrlMatcher, UrlEntry\n",
    "from sql.db import DB as db\n",
    "\n",
    "entrys = db.queryUrlEntrys()\n",
    "\n",
    "# entrys\n",
    "# matcher = UrlMatcher()"
   ]
  },
  {
   "cell_type": "code",
   "execution_count": 3,
   "id": "ed330bdd",
   "metadata": {},
   "outputs": [],
   "source": [
    "urlEntrys = [UrlEntry(paraSet=(entry[2].split('/')[1], entry[1], entry[2])) for entry in entrys]\n",
    "matcher = UrlMatcher(urlEntrys)"
   ]
  },
  {
   "cell_type": "code",
   "execution_count": 5,
   "id": "8549da7c",
   "metadata": {},
   "outputs": [],
   "source": [
    "dic = set()\n",
    "with open('../data/all_urls.csv', 'r') as f:\n",
    "    first = True\n",
    "    for line in f:\n",
    "        if first:\n",
    "            first = False\n",
    "            continue\n",
    "        ss = line.strip().split(',')\n",
    "        module = ss[-1]\n",
    "        url = line.strip().strip(','+module)\n",
    "        url = '/' + url.strip('/')\n",
    "        try:\n",
    "            entry = matcher.convert(url, module)\n",
    "            dic.add(entry)    \n",
    "        except Exception as e:\n",
    "            print(e)\n",
    "            "
   ]
  },
  {
   "cell_type": "code",
   "execution_count": 11,
   "id": "ee7f4177",
   "metadata": {},
   "outputs": [],
   "source": [
    "# '/hr/thrpeople' in dic\n",
    "matcher.convert('/hr/tpayusers', 'POST')"
   ]
  },
  {
   "cell_type": "code",
   "execution_count": 15,
   "id": "5f5e614f",
   "metadata": {},
   "outputs": [
    {
     "data": {
      "text/html": [
       "<div>\n",
       "<style scoped>\n",
       "    .dataframe tbody tr th:only-of-type {\n",
       "        vertical-align: middle;\n",
       "    }\n",
       "\n",
       "    .dataframe tbody tr th {\n",
       "        vertical-align: top;\n",
       "    }\n",
       "\n",
       "    .dataframe thead th {\n",
       "        text-align: right;\n",
       "    }\n",
       "</style>\n",
       "<table border=\"1\" class=\"dataframe\">\n",
       "  <thead>\n",
       "    <tr style=\"text-align: right;\">\n",
       "      <th></th>\n",
       "      <th>date</th>\n",
       "      <th>label</th>\n",
       "    </tr>\n",
       "  </thead>\n",
       "  <tbody>\n",
       "    <tr>\n",
       "      <th>0</th>\n",
       "      <td>2021-08-16 00:48:05.177</td>\n",
       "      <td>1</td>\n",
       "    </tr>\n",
       "    <tr>\n",
       "      <th>1</th>\n",
       "      <td>2021-08-16 00:49:45.177</td>\n",
       "      <td>2</td>\n",
       "    </tr>\n",
       "    <tr>\n",
       "      <th>2</th>\n",
       "      <td>2021-08-16 00:51:25.177</td>\n",
       "      <td>3</td>\n",
       "    </tr>\n",
       "    <tr>\n",
       "      <th>3</th>\n",
       "      <td>2021-08-16 00:53:05.177</td>\n",
       "      <td>4</td>\n",
       "    </tr>\n",
       "    <tr>\n",
       "      <th>4</th>\n",
       "      <td>2021-08-16 00:54:45.177</td>\n",
       "      <td>5</td>\n",
       "    </tr>\n",
       "    <tr>\n",
       "      <th>5</th>\n",
       "      <td>2021-12-14 03:24:05.000</td>\n",
       "      <td>6</td>\n",
       "    </tr>\n",
       "  </tbody>\n",
       "</table>\n",
       "</div>"
      ],
      "text/plain": [
       "                     date  label\n",
       "0 2021-08-16 00:48:05.177      1\n",
       "1 2021-08-16 00:49:45.177      2\n",
       "2 2021-08-16 00:51:25.177      3\n",
       "3 2021-08-16 00:53:05.177      4\n",
       "4 2021-08-16 00:54:45.177      5\n",
       "5 2021-12-14 03:24:05.000      6"
      ]
     },
     "execution_count": 15,
     "metadata": {},
     "output_type": "execute_result"
    }
   ],
   "source": [
    "import pandas as pd\n",
    "from datetime import datetime\n",
    "data = [\n",
    "    [1629089285.177, 1],\n",
    "    [1629089385.177, 2],\n",
    "    [1629089485.177, 3],\n",
    "    [1629089585.177, 4],\n",
    "    [1629089685.177, 5],\n",
    "    [1639470245, 6],\n",
    "]\n",
    "\n",
    "df = pd.DataFrame(data, columns=['time', 'label'])\n",
    "\n",
    "df['date'] = df['time'].apply(\n",
    "            lambda timestamp: datetime.fromtimestamp(timestamp))\n",
    "# df['event'] = df['method'] + ':' + df['urlEntry']\n",
    "tdf = df[['date', 'label']]\n",
    "tdf"
   ]
  },
  {
   "cell_type": "code",
   "execution_count": 45,
   "id": "d9ddc953",
   "metadata": {},
   "outputs": [
    {
     "data": {
      "text/plain": [
       "0       1\n",
       "1       0\n",
       "2       0\n",
       "3       0\n",
       "4       0\n",
       "       ..\n",
       "4320    0\n",
       "4321    0\n",
       "4322    0\n",
       "4323    0\n",
       "4324    6\n",
       "Name: label, Length: 4325, dtype: int64"
      ]
     },
     "execution_count": 45,
     "metadata": {},
     "output_type": "execute_result"
    }
   ],
   "source": [
    "import numpy as np\n",
    "# tdf.set_index('date').resample('3min').apply(\n",
    "#             lambda array: list(array)).reset_index()\n",
    "ttdf = tdf.set_index('date').resample('40min').apply(\n",
    "    lambda array: list(array)\n",
    ").reset_index()\n",
    "\n",
    "def maxCount(values):\n",
    "    if len(values) <= 1:\n",
    "        return values\n",
    "    return np.argmax(np.bincount(values))\n",
    "\n",
    "# ttdf\n",
    "ttdf['label'].apply(lambda values : np.argmax(np.bincount(values)) if len(values) >= 1 else 0)\n",
    "\n",
    "# ttdf['label']\n",
    "# tttdf = ttdf['label'].dropna(0)\n",
    "# tttdf"
   ]
  },
  {
   "cell_type": "code",
   "execution_count": 51,
   "id": "96d214aa",
   "metadata": {},
   "outputs": [],
   "source": [
    "from typing import List\n",
    "from sql.db import DB as db\n",
    "from sql.db import ORIGIN_TABLE_LABELS\n",
    "\n",
    "def getLogsFromDBByUserID(userID: str, columns: List[str] = []) -> pd.DataFrame:\n",
    "    \"\"\"\n",
    "    getLogsFromDBByDate 获取某一时间段的日志，可支持获取日志的某几个字段\n",
    "\n",
    "    Args:\n",
    "        userID (str): userID\n",
    "        columns (List[str]): 想要获取的字段，如果此项为空，则默认获取全部字段\n",
    "    Returns:\n",
    "        pd.DataFrame: 返回的日志数据\n",
    "\n",
    "    ```\n",
    "    userID = '173211-9739'\n",
    "    df = getLogsFromDBByUserID(\n",
    "        userID, ['time', 'urlEntry', 'method', 'parameterName', 'headers', 'name', 'ip'])\n",
    "    ```\n",
    "    df.to_pickle('data/%s.pkl' % userID)\n",
    "    \"\"\"\n",
    "    if (columns == None or len(columns) == 0):\n",
    "        columns = ORIGIN_TABLE_LABELS\n",
    "\n",
    "    equalLabel = 'userID'\n",
    "\n",
    "    log.debug(\"获取日志字段 %s, 要求 userID 为 %s \" % (','.join(columns),  userID))\n",
    "\n",
    "    originLogs = db.queryOriginWithEqual(columns, equalLabel, userID)\n",
    "    log.debug(\"获取到数据%d条，columns为%s\" % (len(originLogs), ','.join(columns)))\n",
    "    df = pd.DataFrame(originLogs, columns=columns)\n",
    "    # log.debug(df)\n",
    "    return df"
   ]
  },
  {
   "cell_type": "code",
   "execution_count": 64,
   "id": "74045cec",
   "metadata": {},
   "outputs": [
    {
     "data": {
      "text/html": [
       "<div>\n",
       "<style scoped>\n",
       "    .dataframe tbody tr th:only-of-type {\n",
       "        vertical-align: middle;\n",
       "    }\n",
       "\n",
       "    .dataframe tbody tr th {\n",
       "        vertical-align: top;\n",
       "    }\n",
       "\n",
       "    .dataframe thead th {\n",
       "        text-align: right;\n",
       "    }\n",
       "</style>\n",
       "<table border=\"1\" class=\"dataframe\">\n",
       "  <thead>\n",
       "    <tr style=\"text-align: right;\">\n",
       "      <th></th>\n",
       "      <th>date</th>\n",
       "      <th>event</th>\n",
       "      <th>EventId</th>\n",
       "    </tr>\n",
       "  </thead>\n",
       "  <tbody>\n",
       "    <tr>\n",
       "      <th>0</th>\n",
       "      <td>2020-10-14 10:40:00</td>\n",
       "      <td>[GET:/portal/menus/mine/pc, GET:/portal/shortc...</td>\n",
       "      <td>[20, 21, 22, 4, 21, 5, 0, 15, 22, 1, 8, 17, 6,...</td>\n",
       "    </tr>\n",
       "    <tr>\n",
       "      <th>1</th>\n",
       "      <td>2020-10-14 11:20:00</td>\n",
       "      <td>[]</td>\n",
       "      <td>[]</td>\n",
       "    </tr>\n",
       "    <tr>\n",
       "      <th>2</th>\n",
       "      <td>2020-10-14 12:00:00</td>\n",
       "      <td>[]</td>\n",
       "      <td>[]</td>\n",
       "    </tr>\n",
       "    <tr>\n",
       "      <th>3</th>\n",
       "      <td>2020-10-14 12:40:00</td>\n",
       "      <td>[]</td>\n",
       "      <td>[]</td>\n",
       "    </tr>\n",
       "    <tr>\n",
       "      <th>4</th>\n",
       "      <td>2020-10-14 13:20:00</td>\n",
       "      <td>[]</td>\n",
       "      <td>[]</td>\n",
       "    </tr>\n",
       "    <tr>\n",
       "      <th>...</th>\n",
       "      <td>...</td>\n",
       "      <td>...</td>\n",
       "      <td>...</td>\n",
       "    </tr>\n",
       "    <tr>\n",
       "      <th>10057</th>\n",
       "      <td>2021-07-20 19:20:00</td>\n",
       "      <td>[]</td>\n",
       "      <td>[]</td>\n",
       "    </tr>\n",
       "    <tr>\n",
       "      <th>10058</th>\n",
       "      <td>2021-07-20 20:00:00</td>\n",
       "      <td>[]</td>\n",
       "      <td>[]</td>\n",
       "    </tr>\n",
       "    <tr>\n",
       "      <th>10059</th>\n",
       "      <td>2021-07-20 20:40:00</td>\n",
       "      <td>[]</td>\n",
       "      <td>[]</td>\n",
       "    </tr>\n",
       "    <tr>\n",
       "      <th>10060</th>\n",
       "      <td>2021-07-20 21:20:00</td>\n",
       "      <td>[]</td>\n",
       "      <td>[]</td>\n",
       "    </tr>\n",
       "    <tr>\n",
       "      <th>10061</th>\n",
       "      <td>2021-07-20 22:00:00</td>\n",
       "      <td>[GET:/fin/ar/billSource/getNodeDetail/{sourceI...</td>\n",
       "      <td>[4, 0, 5, 14, 3, 19, 16, 17, 1, 8, 7, 8, 10, 1...</td>\n",
       "    </tr>\n",
       "  </tbody>\n",
       "</table>\n",
       "<p>10062 rows × 3 columns</p>\n",
       "</div>"
      ],
      "text/plain": [
       "                     date                                              event  \\\n",
       "0     2020-10-14 10:40:00  [GET:/portal/menus/mine/pc, GET:/portal/shortc...   \n",
       "1     2020-10-14 11:20:00                                                 []   \n",
       "2     2020-10-14 12:00:00                                                 []   \n",
       "3     2020-10-14 12:40:00                                                 []   \n",
       "4     2020-10-14 13:20:00                                                 []   \n",
       "...                   ...                                                ...   \n",
       "10057 2021-07-20 19:20:00                                                 []   \n",
       "10058 2021-07-20 20:00:00                                                 []   \n",
       "10059 2021-07-20 20:40:00                                                 []   \n",
       "10060 2021-07-20 21:20:00                                                 []   \n",
       "10061 2021-07-20 22:00:00  [GET:/fin/ar/billSource/getNodeDetail/{sourceI...   \n",
       "\n",
       "                                                 EventId  \n",
       "0      [20, 21, 22, 4, 21, 5, 0, 15, 22, 1, 8, 17, 6,...  \n",
       "1                                                     []  \n",
       "2                                                     []  \n",
       "3                                                     []  \n",
       "4                                                     []  \n",
       "...                                                  ...  \n",
       "10057                                                 []  \n",
       "10058                                                 []  \n",
       "10059                                                 []  \n",
       "10060                                                 []  \n",
       "10061  [4, 0, 5, 14, 3, 19, 16, 17, 1, 8, 7, 8, 10, 1...  \n",
       "\n",
       "[10062 rows x 3 columns]"
      ]
     },
     "execution_count": 64,
     "metadata": {},
     "output_type": "execute_result"
    }
   ],
   "source": [
    "import numpy as np\n",
    "import pandas as pd\n",
    "import logging as log \n",
    "# from data_prepare import getLogsFromDBByUserID\n",
    "# import data_prepare\n",
    "\n",
    "# log.debug(\"开始处理用户%s, %d/%d\" % (user, id, userNum))\n",
    "tdf = getLogsFromDBByUserID('173211-1001180', ['time', 'urlEntry', 'method'])\n",
    "log.debug(\"共获取到%d条数据\" % len(tdf))\n",
    "ths = '40min'\n",
    "eventMap = {}\n",
    "\n",
    "tdf['date'] = tdf['time'].apply(\n",
    "    lambda timestamp: datetime.fromtimestamp(timestamp))\n",
    "tdf['event'] = tdf['method'] + ':' + tdf['urlEntry']\n",
    "tdf = tdf[['date', 'event']]\n",
    "# update event map\n",
    "# eventMap = {event: id for id, event in enumerate(\n",
    "#     df['event'].value_counts().keys())}\n",
    "for event in tdf['event']:\n",
    "    if event not in eventMap:\n",
    "        eventMap[event] = len(eventMap)\n",
    "\n",
    "tdf['EventId'] = tdf['event'].apply(lambda e: eventMap[e])\n",
    "deeplogDf = tdf.set_index('date').resample(ths).apply(\n",
    "    lambda array: list(array)).reset_index()\n",
    "\n",
    "deeplogDf\n",
    "# df = pd.concat([df, deeplogDf], ignore_index=True)"
   ]
  },
  {
   "cell_type": "code",
   "execution_count": 97,
   "id": "b512d0c2",
   "metadata": {},
   "outputs": [],
   "source": [
    "dDf = tdf.set_index('date').resample(\"40min\").apply(\n",
    "    lambda array: list(array) if len(array) > 0 else None).reset_index()"
   ]
  },
  {
   "cell_type": "code",
   "execution_count": 98,
   "id": "36881947",
   "metadata": {},
   "outputs": [],
   "source": [
    "rdf = dDf.dropna(axis=0, subset=['EventId'])"
   ]
  },
  {
   "cell_type": "code",
   "execution_count": 99,
   "id": "033e7695",
   "metadata": {},
   "outputs": [
    {
     "name": "stderr",
     "output_type": "stream",
     "text": [
      "/home/chase/miniconda3/envs/deeplog/lib/python3.7/site-packages/ipykernel_launcher.py:1: SettingWithCopyWarning: \n",
      "A value is trying to be set on a copy of a slice from a DataFrame.\n",
      "Try using .loc[row_indexer,col_indexer] = value instead\n",
      "\n",
      "See the caveats in the documentation: https://pandas.pydata.org/pandas-docs/stable/user_guide/indexing.html#returning-a-view-versus-a-copy\n",
      "  \"\"\"Entry point for launching an IPython kernel.\n"
     ]
    },
    {
     "data": {
      "text/html": [
       "<div>\n",
       "<style scoped>\n",
       "    .dataframe tbody tr th:only-of-type {\n",
       "        vertical-align: middle;\n",
       "    }\n",
       "\n",
       "    .dataframe tbody tr th {\n",
       "        vertical-align: top;\n",
       "    }\n",
       "\n",
       "    .dataframe thead th {\n",
       "        text-align: right;\n",
       "    }\n",
       "</style>\n",
       "<table border=\"1\" class=\"dataframe\">\n",
       "  <thead>\n",
       "    <tr style=\"text-align: right;\">\n",
       "      <th></th>\n",
       "      <th>date</th>\n",
       "      <th>event</th>\n",
       "      <th>EventId</th>\n",
       "      <th>len</th>\n",
       "    </tr>\n",
       "  </thead>\n",
       "  <tbody>\n",
       "    <tr>\n",
       "      <th>0</th>\n",
       "      <td>2020-10-14 10:40:00</td>\n",
       "      <td>[GET:/portal/menus/mine/pc, GET:/portal/shortc...</td>\n",
       "      <td>[20, 21, 22, 4, 21, 5, 0, 15, 22, 1, 8, 17, 6,...</td>\n",
       "      <td>51</td>\n",
       "    </tr>\n",
       "    <tr>\n",
       "      <th>6</th>\n",
       "      <td>2020-10-14 14:40:00</td>\n",
       "      <td>[GET:/pm/integrate/prjInfoIntegrate/getPersona...</td>\n",
       "      <td>[17, 0, 5, 4, 1, 21, 22, 15, 8, 6, 18, 2]</td>\n",
       "      <td>12</td>\n",
       "    </tr>\n",
       "    <tr>\n",
       "      <th>225</th>\n",
       "      <td>2020-10-20 16:40:00</td>\n",
       "      <td>[GET:/portal/shortcutconfig/getConfigCompletio...</td>\n",
       "      <td>[21, 20, 22, 0, 4, 5, 21, 15, 8, 17, 22, 1, 6,...</td>\n",
       "      <td>28</td>\n",
       "    </tr>\n",
       "    <tr>\n",
       "      <th>683</th>\n",
       "      <td>2020-11-02 10:00:00</td>\n",
       "      <td>[GET:/portal/menus/mine/pc, GET:/portal/shortc...</td>\n",
       "      <td>[20, 21, 22, 4, 5, 0, 15, 21, 8, 17, 22, 1, 6,...</td>\n",
       "      <td>28</td>\n",
       "    </tr>\n",
       "    <tr>\n",
       "      <th>10061</th>\n",
       "      <td>2021-07-20 22:00:00</td>\n",
       "      <td>[GET:/fin/ar/billSource/getNodeDetail/{sourceI...</td>\n",
       "      <td>[4, 0, 5, 14, 3, 19, 16, 17, 1, 8, 7, 8, 10, 1...</td>\n",
       "      <td>45</td>\n",
       "    </tr>\n",
       "  </tbody>\n",
       "</table>\n",
       "</div>"
      ],
      "text/plain": [
       "                     date                                              event  \\\n",
       "0     2020-10-14 10:40:00  [GET:/portal/menus/mine/pc, GET:/portal/shortc...   \n",
       "6     2020-10-14 14:40:00  [GET:/pm/integrate/prjInfoIntegrate/getPersona...   \n",
       "225   2020-10-20 16:40:00  [GET:/portal/shortcutconfig/getConfigCompletio...   \n",
       "683   2020-11-02 10:00:00  [GET:/portal/menus/mine/pc, GET:/portal/shortc...   \n",
       "10061 2021-07-20 22:00:00  [GET:/fin/ar/billSource/getNodeDetail/{sourceI...   \n",
       "\n",
       "                                                 EventId  len  \n",
       "0      [20, 21, 22, 4, 21, 5, 0, 15, 22, 1, 8, 17, 6,...   51  \n",
       "6              [17, 0, 5, 4, 1, 21, 22, 15, 8, 6, 18, 2]   12  \n",
       "225    [21, 20, 22, 0, 4, 5, 21, 15, 8, 17, 22, 1, 6,...   28  \n",
       "683    [20, 21, 22, 4, 5, 0, 15, 21, 8, 17, 22, 1, 6,...   28  \n",
       "10061  [4, 0, 5, 14, 3, 19, 16, 17, 1, 8, 7, 8, 10, 1...   45  "
      ]
     },
     "execution_count": 99,
     "metadata": {},
     "output_type": "execute_result"
    }
   ],
   "source": [
    "rdf['len'] =rdf['EventId'].apply(lambda array : len( array ))\n",
    "rdf"
   ]
  },
  {
   "cell_type": "code",
   "execution_count": 119,
   "id": "96968eac",
   "metadata": {},
   "outputs": [
    {
     "data": {
      "text/html": [
       "<div>\n",
       "<style scoped>\n",
       "    .dataframe tbody tr th:only-of-type {\n",
       "        vertical-align: middle;\n",
       "    }\n",
       "\n",
       "    .dataframe tbody tr th {\n",
       "        vertical-align: top;\n",
       "    }\n",
       "\n",
       "    .dataframe thead th {\n",
       "        text-align: right;\n",
       "    }\n",
       "</style>\n",
       "<table border=\"1\" class=\"dataframe\">\n",
       "  <thead>\n",
       "    <tr style=\"text-align: right;\">\n",
       "      <th></th>\n",
       "      <th>0</th>\n",
       "    </tr>\n",
       "  </thead>\n",
       "  <tbody>\n",
       "    <tr>\n",
       "      <th>0</th>\n",
       "      <td>ajfia</td>\n",
       "    </tr>\n",
       "    <tr>\n",
       "      <th>1</th>\n",
       "      <td>[8, 9, 17, 0, 9, 8, 9, 8, 8, 9]</td>\n",
       "    </tr>\n",
       "  </tbody>\n",
       "</table>\n",
       "</div>"
      ],
      "text/plain": [
       "                                 0\n",
       "0                            ajfia\n",
       "1  [8, 9, 17, 0, 9, 8, 9, 8, 8, 9]"
      ]
     },
     "execution_count": 119,
     "metadata": {},
     "output_type": "execute_result"
    }
   ],
   "source": [
    "import collections\n",
    "\n",
    "for line in rdf['EventId']:\n",
    "    # print(line)\n",
    "    i = collections.Counter(line)\n",
    "    # print(i.most_common(2).keys)\n",
    "    # seq = [c for c, _ in i.most_common(2).keys]\n",
    "    # print(seq)\n",
    "longdf = pd.DataFrame(columns=['user', 'seq'])\n",
    "longdf\n",
    "lseq = []\n",
    "user = 'ajfia'\n",
    "# s = pd.Series(data = user, name='user')\n",
    "# seq = pd.Series(data=lseq, name='seq')\n",
    "# d = pd.DataFrame([s, seq]).reset_index()\n",
    "# d\n",
    "for seq in rdf['EventId']:\n",
    "    cnter = collections.Counter(seq)\n",
    "    lseq.extend([i for i, _ in cnter.most_common(2)])\n",
    "# # print(lseq)\n",
    "# t = pd.DataFrame(\n",
    "#         data=[[user], [lseq]], \n",
    "#         # columns=['userId', 'seq']\n",
    "#     )\n",
    "# t\n",
    "t\n",
    "# longdf = pd.concat([\n",
    "#     longdf, \n",
    "#     t], ignore_index=True)\n",
    "# longdf   \n",
    "#     ignore_index=True\n",
    "# )\n",
    "# longdf"
   ]
  }
 ],
 "metadata": {
  "kernelspec": {
   "display_name": "Python 3 (ipykernel)",
   "language": "python",
   "name": "python3"
  },
  "language_info": {
   "codemirror_mode": {
    "name": "ipython",
    "version": 3
   },
   "file_extension": ".py",
   "mimetype": "text/x-python",
   "name": "python",
   "nbconvert_exporter": "python",
   "pygments_lexer": "ipython3",
   "version": "3.7.11"
  }
 },
 "nbformat": 4,
 "nbformat_minor": 5
}
